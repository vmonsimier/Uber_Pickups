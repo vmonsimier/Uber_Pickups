{
 "cells": [
  {
   "cell_type": "code",
   "execution_count": 1,
   "metadata": {
    "colab": {
     "base_uri": "https://localhost:8080/",
     "height": 71
    },
    "colab_type": "code",
    "id": "X2OJO8rPVr8Q",
    "outputId": "db8ab88e-4462-4dce-abcb-dc555714faf2"
   },
   "outputs": [],
   "source": [
    "import pandas as pd\n",
    "import numpy as np\n",
    "import seaborn as sns\n",
    "import matplotlib.pyplot as plt\n",
    "import matplotlib.cm as cm"
   ]
  },
  {
   "cell_type": "code",
   "execution_count": 2,
   "metadata": {
    "colab": {
     "base_uri": "https://localhost:8080/",
     "height": 419
    },
    "colab_type": "code",
    "id": "KMSYBk3ZV3yG",
    "outputId": "58a7b484-472e-450c-ac91-c275fd896071"
   },
   "outputs": [
    {
     "data": {
      "text/html": [
       "<div>\n",
       "<style scoped>\n",
       "    .dataframe tbody tr th:only-of-type {\n",
       "        vertical-align: middle;\n",
       "    }\n",
       "\n",
       "    .dataframe tbody tr th {\n",
       "        vertical-align: top;\n",
       "    }\n",
       "\n",
       "    .dataframe thead th {\n",
       "        text-align: right;\n",
       "    }\n",
       "</style>\n",
       "<table border=\"1\" class=\"dataframe\">\n",
       "  <thead>\n",
       "    <tr style=\"text-align: right;\">\n",
       "      <th></th>\n",
       "      <th>Date/Time</th>\n",
       "      <th>Lat</th>\n",
       "      <th>Lon</th>\n",
       "      <th>Base</th>\n",
       "    </tr>\n",
       "  </thead>\n",
       "  <tbody>\n",
       "    <tr>\n",
       "      <td>0</td>\n",
       "      <td>5/1/2014 0:02:00</td>\n",
       "      <td>40.7521</td>\n",
       "      <td>-73.9914</td>\n",
       "      <td>B02512</td>\n",
       "    </tr>\n",
       "    <tr>\n",
       "      <td>1</td>\n",
       "      <td>5/1/2014 0:06:00</td>\n",
       "      <td>40.6965</td>\n",
       "      <td>-73.9715</td>\n",
       "      <td>B02512</td>\n",
       "    </tr>\n",
       "    <tr>\n",
       "      <td>2</td>\n",
       "      <td>5/1/2014 0:15:00</td>\n",
       "      <td>40.7464</td>\n",
       "      <td>-73.9838</td>\n",
       "      <td>B02512</td>\n",
       "    </tr>\n",
       "    <tr>\n",
       "      <td>3</td>\n",
       "      <td>5/1/2014 0:17:00</td>\n",
       "      <td>40.7463</td>\n",
       "      <td>-74.0011</td>\n",
       "      <td>B02512</td>\n",
       "    </tr>\n",
       "    <tr>\n",
       "      <td>4</td>\n",
       "      <td>5/1/2014 0:17:00</td>\n",
       "      <td>40.7594</td>\n",
       "      <td>-73.9734</td>\n",
       "      <td>B02512</td>\n",
       "    </tr>\n",
       "    <tr>\n",
       "      <td>...</td>\n",
       "      <td>...</td>\n",
       "      <td>...</td>\n",
       "      <td>...</td>\n",
       "      <td>...</td>\n",
       "    </tr>\n",
       "    <tr>\n",
       "      <td>652430</td>\n",
       "      <td>5/31/2014 23:45:00</td>\n",
       "      <td>40.7309</td>\n",
       "      <td>-74.0014</td>\n",
       "      <td>B02764</td>\n",
       "    </tr>\n",
       "    <tr>\n",
       "      <td>652431</td>\n",
       "      <td>5/31/2014 23:52:00</td>\n",
       "      <td>40.7528</td>\n",
       "      <td>-73.9798</td>\n",
       "      <td>B02764</td>\n",
       "    </tr>\n",
       "    <tr>\n",
       "      <td>652432</td>\n",
       "      <td>5/31/2014 23:55:00</td>\n",
       "      <td>40.7158</td>\n",
       "      <td>-73.9519</td>\n",
       "      <td>B02764</td>\n",
       "    </tr>\n",
       "    <tr>\n",
       "      <td>652433</td>\n",
       "      <td>5/31/2014 23:56:00</td>\n",
       "      <td>40.6961</td>\n",
       "      <td>-73.8997</td>\n",
       "      <td>B02764</td>\n",
       "    </tr>\n",
       "    <tr>\n",
       "      <td>652434</td>\n",
       "      <td>5/31/2014 23:59:00</td>\n",
       "      <td>40.7393</td>\n",
       "      <td>-73.9919</td>\n",
       "      <td>B02764</td>\n",
       "    </tr>\n",
       "  </tbody>\n",
       "</table>\n",
       "<p>652435 rows × 4 columns</p>\n",
       "</div>"
      ],
      "text/plain": [
       "                 Date/Time      Lat      Lon    Base\n",
       "0         5/1/2014 0:02:00  40.7521 -73.9914  B02512\n",
       "1         5/1/2014 0:06:00  40.6965 -73.9715  B02512\n",
       "2         5/1/2014 0:15:00  40.7464 -73.9838  B02512\n",
       "3         5/1/2014 0:17:00  40.7463 -74.0011  B02512\n",
       "4         5/1/2014 0:17:00  40.7594 -73.9734  B02512\n",
       "...                    ...      ...      ...     ...\n",
       "652430  5/31/2014 23:45:00  40.7309 -74.0014  B02764\n",
       "652431  5/31/2014 23:52:00  40.7528 -73.9798  B02764\n",
       "652432  5/31/2014 23:55:00  40.7158 -73.9519  B02764\n",
       "652433  5/31/2014 23:56:00  40.6961 -73.8997  B02764\n",
       "652434  5/31/2014 23:59:00  40.7393 -73.9919  B02764\n",
       "\n",
       "[652435 rows x 4 columns]"
      ]
     },
     "execution_count": 2,
     "metadata": {},
     "output_type": "execute_result"
    },
    {
     "data": {
      "text/html": [
       "<div>\n",
       "<style scoped>\n",
       "    .dataframe tbody tr th:only-of-type {\n",
       "        vertical-align: middle;\n",
       "    }\n",
       "\n",
       "    .dataframe tbody tr th {\n",
       "        vertical-align: top;\n",
       "    }\n",
       "\n",
       "    .dataframe thead th {\n",
       "        text-align: right;\n",
       "    }\n",
       "</style>\n",
       "<table border=\"1\" class=\"dataframe\">\n",
       "  <thead>\n",
       "    <tr style=\"text-align: right;\">\n",
       "      <th></th>\n",
       "      <th>Date/Time</th>\n",
       "      <th>Lat</th>\n",
       "      <th>Lon</th>\n",
       "      <th>Base</th>\n",
       "    </tr>\n",
       "  </thead>\n",
       "  <tbody>\n",
       "    <tr>\n",
       "      <td>0</td>\n",
       "      <td>5/1/2014 0:02:00</td>\n",
       "      <td>40.7521</td>\n",
       "      <td>-73.9914</td>\n",
       "      <td>B02512</td>\n",
       "    </tr>\n",
       "    <tr>\n",
       "      <td>1</td>\n",
       "      <td>5/1/2014 0:06:00</td>\n",
       "      <td>40.6965</td>\n",
       "      <td>-73.9715</td>\n",
       "      <td>B02512</td>\n",
       "    </tr>\n",
       "    <tr>\n",
       "      <td>2</td>\n",
       "      <td>5/1/2014 0:15:00</td>\n",
       "      <td>40.7464</td>\n",
       "      <td>-73.9838</td>\n",
       "      <td>B02512</td>\n",
       "    </tr>\n",
       "    <tr>\n",
       "      <td>3</td>\n",
       "      <td>5/1/2014 0:17:00</td>\n",
       "      <td>40.7463</td>\n",
       "      <td>-74.0011</td>\n",
       "      <td>B02512</td>\n",
       "    </tr>\n",
       "    <tr>\n",
       "      <td>4</td>\n",
       "      <td>5/1/2014 0:17:00</td>\n",
       "      <td>40.7594</td>\n",
       "      <td>-73.9734</td>\n",
       "      <td>B02512</td>\n",
       "    </tr>\n",
       "    <tr>\n",
       "      <td>...</td>\n",
       "      <td>...</td>\n",
       "      <td>...</td>\n",
       "      <td>...</td>\n",
       "      <td>...</td>\n",
       "    </tr>\n",
       "    <tr>\n",
       "      <td>652430</td>\n",
       "      <td>5/31/2014 23:45:00</td>\n",
       "      <td>40.7309</td>\n",
       "      <td>-74.0014</td>\n",
       "      <td>B02764</td>\n",
       "    </tr>\n",
       "    <tr>\n",
       "      <td>652431</td>\n",
       "      <td>5/31/2014 23:52:00</td>\n",
       "      <td>40.7528</td>\n",
       "      <td>-73.9798</td>\n",
       "      <td>B02764</td>\n",
       "    </tr>\n",
       "    <tr>\n",
       "      <td>652432</td>\n",
       "      <td>5/31/2014 23:55:00</td>\n",
       "      <td>40.7158</td>\n",
       "      <td>-73.9519</td>\n",
       "      <td>B02764</td>\n",
       "    </tr>\n",
       "    <tr>\n",
       "      <td>652433</td>\n",
       "      <td>5/31/2014 23:56:00</td>\n",
       "      <td>40.6961</td>\n",
       "      <td>-73.8997</td>\n",
       "      <td>B02764</td>\n",
       "    </tr>\n",
       "    <tr>\n",
       "      <td>652434</td>\n",
       "      <td>5/31/2014 23:59:00</td>\n",
       "      <td>40.7393</td>\n",
       "      <td>-73.9919</td>\n",
       "      <td>B02764</td>\n",
       "    </tr>\n",
       "  </tbody>\n",
       "</table>\n",
       "<p>652435 rows × 4 columns</p>\n",
       "</div>"
      ],
      "text/plain": [
       "                 Date/Time      Lat      Lon    Base\n",
       "0         5/1/2014 0:02:00  40.7521 -73.9914  B02512\n",
       "1         5/1/2014 0:06:00  40.6965 -73.9715  B02512\n",
       "2         5/1/2014 0:15:00  40.7464 -73.9838  B02512\n",
       "3         5/1/2014 0:17:00  40.7463 -74.0011  B02512\n",
       "4         5/1/2014 0:17:00  40.7594 -73.9734  B02512\n",
       "...                    ...      ...      ...     ...\n",
       "652430  5/31/2014 23:45:00  40.7309 -74.0014  B02764\n",
       "652431  5/31/2014 23:52:00  40.7528 -73.9798  B02764\n",
       "652432  5/31/2014 23:55:00  40.7158 -73.9519  B02764\n",
       "652433  5/31/2014 23:56:00  40.6961 -73.8997  B02764\n",
       "652434  5/31/2014 23:59:00  40.7393 -73.9919  B02764\n",
       "\n",
       "[652435 rows x 4 columns]"
      ]
     },
     "execution_count": 2,
     "metadata": {},
     "output_type": "execute_result"
    }
   ],
   "source": [
    "data = pd.read_csv(\"https://raw.githubusercontent.com/fivethirtyeight/uber-tlc-foil-response/master/uber-trip-data/uber-raw-data-may14.csv\")\n",
    "data"
   ]
  },
  {
   "cell_type": "code",
   "execution_count": 3,
   "metadata": {
    "colab": {
     "base_uri": "https://localhost:8080/",
     "height": 204
    },
    "colab_type": "code",
    "id": "ddrL7PY-YvNS",
    "outputId": "52b11185-4d88-40d8-c10d-0c66598694ee"
   },
   "outputs": [
    {
     "name": "stdout",
     "output_type": "stream",
     "text": [
      "<class 'pandas.core.frame.DataFrame'>\n",
      "RangeIndex: 652435 entries, 0 to 652434\n",
      "Data columns (total 4 columns):\n",
      "Date/Time    652435 non-null object\n",
      "Lat          652435 non-null float64\n",
      "Lon          652435 non-null float64\n",
      "Base         652435 non-null object\n",
      "dtypes: float64(2), object(2)\n",
      "memory usage: 19.9+ MB\n",
      "<class 'pandas.core.frame.DataFrame'>\n",
      "RangeIndex: 652435 entries, 0 to 652434\n",
      "Data columns (total 4 columns):\n",
      "Date/Time    652435 non-null object\n",
      "Lat          652435 non-null float64\n",
      "Lon          652435 non-null float64\n",
      "Base         652435 non-null object\n",
      "dtypes: float64(2), object(2)\n",
      "memory usage: 19.9+ MB\n"
     ]
    }
   ],
   "source": [
    "data.info()"
   ]
  },
  {
   "cell_type": "markdown",
   "metadata": {
    "colab_type": "text",
    "id": "ivf3NpaH8w8y"
   },
   "source": [
    "# **Data preprocessing et visualisation**"
   ]
  },
  {
   "cell_type": "code",
   "execution_count": 4,
   "metadata": {
    "colab": {
     "base_uri": "https://localhost:8080/",
     "height": 204
    },
    "colab_type": "code",
    "id": "DFNVmKtfY8Dw",
    "outputId": "a9ec987c-092e-498f-e6db-6dc8d48d4c3b"
   },
   "outputs": [
    {
     "data": {
      "text/html": [
       "<div>\n",
       "<style scoped>\n",
       "    .dataframe tbody tr th:only-of-type {\n",
       "        vertical-align: middle;\n",
       "    }\n",
       "\n",
       "    .dataframe tbody tr th {\n",
       "        vertical-align: top;\n",
       "    }\n",
       "\n",
       "    .dataframe thead th {\n",
       "        text-align: right;\n",
       "    }\n",
       "</style>\n",
       "<table border=\"1\" class=\"dataframe\">\n",
       "  <thead>\n",
       "    <tr style=\"text-align: right;\">\n",
       "      <th></th>\n",
       "      <th>Lat</th>\n",
       "      <th>Lon</th>\n",
       "      <th>Base</th>\n",
       "      <th>Date</th>\n",
       "      <th>Time</th>\n",
       "    </tr>\n",
       "  </thead>\n",
       "  <tbody>\n",
       "    <tr>\n",
       "      <td>0</td>\n",
       "      <td>40.7521</td>\n",
       "      <td>-73.9914</td>\n",
       "      <td>B02512</td>\n",
       "      <td>2014-05-01</td>\n",
       "      <td>00:02:00</td>\n",
       "    </tr>\n",
       "    <tr>\n",
       "      <td>1</td>\n",
       "      <td>40.6965</td>\n",
       "      <td>-73.9715</td>\n",
       "      <td>B02512</td>\n",
       "      <td>2014-05-01</td>\n",
       "      <td>00:06:00</td>\n",
       "    </tr>\n",
       "    <tr>\n",
       "      <td>2</td>\n",
       "      <td>40.7464</td>\n",
       "      <td>-73.9838</td>\n",
       "      <td>B02512</td>\n",
       "      <td>2014-05-01</td>\n",
       "      <td>00:15:00</td>\n",
       "    </tr>\n",
       "    <tr>\n",
       "      <td>3</td>\n",
       "      <td>40.7463</td>\n",
       "      <td>-74.0011</td>\n",
       "      <td>B02512</td>\n",
       "      <td>2014-05-01</td>\n",
       "      <td>00:17:00</td>\n",
       "    </tr>\n",
       "    <tr>\n",
       "      <td>4</td>\n",
       "      <td>40.7594</td>\n",
       "      <td>-73.9734</td>\n",
       "      <td>B02512</td>\n",
       "      <td>2014-05-01</td>\n",
       "      <td>00:17:00</td>\n",
       "    </tr>\n",
       "  </tbody>\n",
       "</table>\n",
       "</div>"
      ],
      "text/plain": [
       "       Lat      Lon    Base        Date      Time\n",
       "0  40.7521 -73.9914  B02512  2014-05-01  00:02:00\n",
       "1  40.6965 -73.9715  B02512  2014-05-01  00:06:00\n",
       "2  40.7464 -73.9838  B02512  2014-05-01  00:15:00\n",
       "3  40.7463 -74.0011  B02512  2014-05-01  00:17:00\n",
       "4  40.7594 -73.9734  B02512  2014-05-01  00:17:00"
      ]
     },
     "execution_count": 4,
     "metadata": {},
     "output_type": "execute_result"
    },
    {
     "data": {
      "text/html": [
       "<div>\n",
       "<style scoped>\n",
       "    .dataframe tbody tr th:only-of-type {\n",
       "        vertical-align: middle;\n",
       "    }\n",
       "\n",
       "    .dataframe tbody tr th {\n",
       "        vertical-align: top;\n",
       "    }\n",
       "\n",
       "    .dataframe thead th {\n",
       "        text-align: right;\n",
       "    }\n",
       "</style>\n",
       "<table border=\"1\" class=\"dataframe\">\n",
       "  <thead>\n",
       "    <tr style=\"text-align: right;\">\n",
       "      <th></th>\n",
       "      <th>Lat</th>\n",
       "      <th>Lon</th>\n",
       "      <th>Base</th>\n",
       "      <th>Date</th>\n",
       "      <th>Time</th>\n",
       "    </tr>\n",
       "  </thead>\n",
       "  <tbody>\n",
       "    <tr>\n",
       "      <td>0</td>\n",
       "      <td>40.7521</td>\n",
       "      <td>-73.9914</td>\n",
       "      <td>B02512</td>\n",
       "      <td>2014-05-01</td>\n",
       "      <td>00:02:00</td>\n",
       "    </tr>\n",
       "    <tr>\n",
       "      <td>1</td>\n",
       "      <td>40.6965</td>\n",
       "      <td>-73.9715</td>\n",
       "      <td>B02512</td>\n",
       "      <td>2014-05-01</td>\n",
       "      <td>00:06:00</td>\n",
       "    </tr>\n",
       "    <tr>\n",
       "      <td>2</td>\n",
       "      <td>40.7464</td>\n",
       "      <td>-73.9838</td>\n",
       "      <td>B02512</td>\n",
       "      <td>2014-05-01</td>\n",
       "      <td>00:15:00</td>\n",
       "    </tr>\n",
       "    <tr>\n",
       "      <td>3</td>\n",
       "      <td>40.7463</td>\n",
       "      <td>-74.0011</td>\n",
       "      <td>B02512</td>\n",
       "      <td>2014-05-01</td>\n",
       "      <td>00:17:00</td>\n",
       "    </tr>\n",
       "    <tr>\n",
       "      <td>4</td>\n",
       "      <td>40.7594</td>\n",
       "      <td>-73.9734</td>\n",
       "      <td>B02512</td>\n",
       "      <td>2014-05-01</td>\n",
       "      <td>00:17:00</td>\n",
       "    </tr>\n",
       "  </tbody>\n",
       "</table>\n",
       "</div>"
      ],
      "text/plain": [
       "       Lat      Lon    Base        Date      Time\n",
       "0  40.7521 -73.9914  B02512  2014-05-01  00:02:00\n",
       "1  40.6965 -73.9715  B02512  2014-05-01  00:06:00\n",
       "2  40.7464 -73.9838  B02512  2014-05-01  00:15:00\n",
       "3  40.7463 -74.0011  B02512  2014-05-01  00:17:00\n",
       "4  40.7594 -73.9734  B02512  2014-05-01  00:17:00"
      ]
     },
     "execution_count": 4,
     "metadata": {},
     "output_type": "execute_result"
    }
   ],
   "source": [
    "from datetime import datetime\n",
    "\n",
    "data['Date/Time'] = pd.to_datetime(data['Date/Time'])\n",
    "\n",
    "data['Date'] = data['Date/Time'].apply(lambda x: datetime.date(x))\n",
    "data['Time'] = data['Date/Time'].apply(lambda x: datetime.time(x))\n",
    "\n",
    "data = data.drop(columns=\"Date/Time\")\n",
    "\n",
    "data.head()"
   ]
  },
  {
   "cell_type": "code",
   "execution_count": 5,
   "metadata": {
    "colab": {
     "base_uri": "https://localhost:8080/",
     "height": 204
    },
    "colab_type": "code",
    "id": "dHdM2l9812G9",
    "outputId": "dc1f734c-fa6e-45cb-eb4b-6fa7ab31271f"
   },
   "outputs": [
    {
     "data": {
      "text/html": [
       "<div>\n",
       "<style scoped>\n",
       "    .dataframe tbody tr th:only-of-type {\n",
       "        vertical-align: middle;\n",
       "    }\n",
       "\n",
       "    .dataframe tbody tr th {\n",
       "        vertical-align: top;\n",
       "    }\n",
       "\n",
       "    .dataframe thead th {\n",
       "        text-align: right;\n",
       "    }\n",
       "</style>\n",
       "<table border=\"1\" class=\"dataframe\">\n",
       "  <thead>\n",
       "    <tr style=\"text-align: right;\">\n",
       "      <th></th>\n",
       "      <th>Lat</th>\n",
       "      <th>Lon</th>\n",
       "      <th>Day</th>\n",
       "      <th>Month</th>\n",
       "      <th>Year</th>\n",
       "      <th>Hour</th>\n",
       "      <th>Minute</th>\n",
       "    </tr>\n",
       "  </thead>\n",
       "  <tbody>\n",
       "    <tr>\n",
       "      <td>0</td>\n",
       "      <td>40.7521</td>\n",
       "      <td>-73.9914</td>\n",
       "      <td>1</td>\n",
       "      <td>5</td>\n",
       "      <td>2014</td>\n",
       "      <td>0</td>\n",
       "      <td>2</td>\n",
       "    </tr>\n",
       "    <tr>\n",
       "      <td>1</td>\n",
       "      <td>40.6965</td>\n",
       "      <td>-73.9715</td>\n",
       "      <td>1</td>\n",
       "      <td>5</td>\n",
       "      <td>2014</td>\n",
       "      <td>0</td>\n",
       "      <td>6</td>\n",
       "    </tr>\n",
       "    <tr>\n",
       "      <td>2</td>\n",
       "      <td>40.7464</td>\n",
       "      <td>-73.9838</td>\n",
       "      <td>1</td>\n",
       "      <td>5</td>\n",
       "      <td>2014</td>\n",
       "      <td>0</td>\n",
       "      <td>15</td>\n",
       "    </tr>\n",
       "    <tr>\n",
       "      <td>3</td>\n",
       "      <td>40.7463</td>\n",
       "      <td>-74.0011</td>\n",
       "      <td>1</td>\n",
       "      <td>5</td>\n",
       "      <td>2014</td>\n",
       "      <td>0</td>\n",
       "      <td>17</td>\n",
       "    </tr>\n",
       "    <tr>\n",
       "      <td>4</td>\n",
       "      <td>40.7594</td>\n",
       "      <td>-73.9734</td>\n",
       "      <td>1</td>\n",
       "      <td>5</td>\n",
       "      <td>2014</td>\n",
       "      <td>0</td>\n",
       "      <td>17</td>\n",
       "    </tr>\n",
       "  </tbody>\n",
       "</table>\n",
       "</div>"
      ],
      "text/plain": [
       "       Lat      Lon  Day  Month  Year  Hour  Minute\n",
       "0  40.7521 -73.9914    1      5  2014     0       2\n",
       "1  40.6965 -73.9715    1      5  2014     0       6\n",
       "2  40.7464 -73.9838    1      5  2014     0      15\n",
       "3  40.7463 -74.0011    1      5  2014     0      17\n",
       "4  40.7594 -73.9734    1      5  2014     0      17"
      ]
     },
     "execution_count": 5,
     "metadata": {},
     "output_type": "execute_result"
    },
    {
     "data": {
      "text/html": [
       "<div>\n",
       "<style scoped>\n",
       "    .dataframe tbody tr th:only-of-type {\n",
       "        vertical-align: middle;\n",
       "    }\n",
       "\n",
       "    .dataframe tbody tr th {\n",
       "        vertical-align: top;\n",
       "    }\n",
       "\n",
       "    .dataframe thead th {\n",
       "        text-align: right;\n",
       "    }\n",
       "</style>\n",
       "<table border=\"1\" class=\"dataframe\">\n",
       "  <thead>\n",
       "    <tr style=\"text-align: right;\">\n",
       "      <th></th>\n",
       "      <th>Lat</th>\n",
       "      <th>Lon</th>\n",
       "      <th>Day</th>\n",
       "      <th>Month</th>\n",
       "      <th>Year</th>\n",
       "      <th>Hour</th>\n",
       "      <th>Minute</th>\n",
       "    </tr>\n",
       "  </thead>\n",
       "  <tbody>\n",
       "    <tr>\n",
       "      <td>0</td>\n",
       "      <td>40.7521</td>\n",
       "      <td>-73.9914</td>\n",
       "      <td>1</td>\n",
       "      <td>5</td>\n",
       "      <td>2014</td>\n",
       "      <td>0</td>\n",
       "      <td>2</td>\n",
       "    </tr>\n",
       "    <tr>\n",
       "      <td>1</td>\n",
       "      <td>40.6965</td>\n",
       "      <td>-73.9715</td>\n",
       "      <td>1</td>\n",
       "      <td>5</td>\n",
       "      <td>2014</td>\n",
       "      <td>0</td>\n",
       "      <td>6</td>\n",
       "    </tr>\n",
       "    <tr>\n",
       "      <td>2</td>\n",
       "      <td>40.7464</td>\n",
       "      <td>-73.9838</td>\n",
       "      <td>1</td>\n",
       "      <td>5</td>\n",
       "      <td>2014</td>\n",
       "      <td>0</td>\n",
       "      <td>15</td>\n",
       "    </tr>\n",
       "    <tr>\n",
       "      <td>3</td>\n",
       "      <td>40.7463</td>\n",
       "      <td>-74.0011</td>\n",
       "      <td>1</td>\n",
       "      <td>5</td>\n",
       "      <td>2014</td>\n",
       "      <td>0</td>\n",
       "      <td>17</td>\n",
       "    </tr>\n",
       "    <tr>\n",
       "      <td>4</td>\n",
       "      <td>40.7594</td>\n",
       "      <td>-73.9734</td>\n",
       "      <td>1</td>\n",
       "      <td>5</td>\n",
       "      <td>2014</td>\n",
       "      <td>0</td>\n",
       "      <td>17</td>\n",
       "    </tr>\n",
       "  </tbody>\n",
       "</table>\n",
       "</div>"
      ],
      "text/plain": [
       "       Lat      Lon  Day  Month  Year  Hour  Minute\n",
       "0  40.7521 -73.9914    1      5  2014     0       2\n",
       "1  40.6965 -73.9715    1      5  2014     0       6\n",
       "2  40.7464 -73.9838    1      5  2014     0      15\n",
       "3  40.7463 -74.0011    1      5  2014     0      17\n",
       "4  40.7594 -73.9734    1      5  2014     0      17"
      ]
     },
     "execution_count": 5,
     "metadata": {},
     "output_type": "execute_result"
    }
   ],
   "source": [
    "data['Day'] = data['Date'].apply(lambda x: x.day)\n",
    "data['Month'] = data['Date'].apply(lambda x: x.month)\n",
    "data['Year'] = data['Date'].apply(lambda x: x.year)\n",
    "\n",
    "data['Hour'] = data['Time'].apply(lambda x: x.hour)\n",
    "data['Minute'] = data['Time'].apply(lambda x: x.minute)\n",
    "\n",
    "data = data.drop(columns=[\"Date\", \"Time\", \"Base\"])\n",
    "data.head()"
   ]
  },
  {
   "cell_type": "code",
   "execution_count": 6,
   "metadata": {
    "colab": {},
    "colab_type": "code",
    "id": "Vmbrsf134iw_"
   },
   "outputs": [],
   "source": [
    "data.Minute = data.Minute.apply(lambda x: 0 if (x <= 8 or x > 53)\n",
    "                                else 15 if 8 < x <= 23\n",
    "                                else 30 if 23 < x <= 38\n",
    "                                else 45)"
   ]
  },
  {
   "cell_type": "code",
   "execution_count": null,
   "metadata": {
    "colab": {
     "base_uri": "https://localhost:8080/",
     "height": 331
    },
    "colab_type": "code",
    "id": "doK6CHkPy-98",
    "outputId": "43af0174-4bcf-49e2-b648-bc12504e108c"
   },
   "outputs": [],
   "source": [
    "from sklearn.cluster import KMeans\n",
    "\n",
    "model = KMeans()\n",
    "\n",
    "distortions = []\n",
    "for k in range(1, 10):\n",
    "    model = KMeans(n_clusters=k)\n",
    "    model.fit(data)\n",
    "    distortions.append(model.inertia_)\n",
    "\n",
    "fig = plt.figure(figsize=(7, 5))\n",
    "plt.plot(range(1, 10), distortions)\n",
    "plt.grid(True) \n",
    "plt.show()"
   ]
  },
  {
   "cell_type": "code",
   "execution_count": null,
   "metadata": {
    "colab": {
     "base_uri": "https://localhost:8080/",
     "height": 1000
    },
    "colab_type": "code",
    "id": "YmVMy78o0GWa",
    "outputId": "e4bbf411-e39f-4982-e137-99d67bdbbb29"
   },
   "outputs": [],
   "source": [
    "from sklearn.metrics import silhouette_samples, silhouette_score\n",
    "from sklearn.datasets import make_blobs\n",
    "\n",
    "X, y = make_blobs(n_samples=500,\n",
    "                  n_features=2,\n",
    "                  centers=4,\n",
    "                  cluster_std=1,\n",
    "                  center_box=(-10.0, 10.0),\n",
    "                  shuffle=True,\n",
    "                  random_state=1)  # For reproducibility\n",
    "\n",
    "range_n_clusters = [2, 3, 4, 5]\n",
    "\n",
    "for n_clusters in range_n_clusters:\n",
    "    # Create a subplot with 1 row and 2 columns\n",
    "    fig, (ax1, ax2) = plt.subplots(1, 2)\n",
    "    fig.set_size_inches(18, 7)\n",
    "\n",
    "    # The 1st subplot is the silhouette plot\n",
    "    # The silhouette coefficient can range from -1, 1 but in this example all\n",
    "    # lie within [-0.1, 1]\n",
    "    ax1.set_xlim([-0.1, 1])\n",
    "    # The (n_clusters+1)*10 is for inserting blank space between silhouette\n",
    "    # plots of individual clusters, to demarcate them clearly.\n",
    "    ax1.set_ylim([0, len(X) + (n_clusters + 1) * 10])\n",
    "\n",
    "    # Initialize the clusterer with n_clusters value and a random generator\n",
    "    # seed of 10 for reproducibility.\n",
    "    clusterer = KMeans(n_clusters=n_clusters, random_state=10)\n",
    "    cluster_labels = clusterer.fit_predict(X)\n",
    "\n",
    "    # The silhouette_score gives the average value for all the samples.\n",
    "    # This gives a perspective into the density and separation of the formed\n",
    "    # clusters\n",
    "    silhouette_avg = silhouette_score(X, cluster_labels)\n",
    "    print(\"For n_clusters =\", n_clusters,\n",
    "          \"The average silhouette_score is :\", silhouette_avg)\n",
    "\n",
    "    # Compute the silhouette scores for each sample\n",
    "    sample_silhouette_values = silhouette_samples(X, cluster_labels)\n",
    "\n",
    "    y_lower = 10\n",
    "    for i in range(n_clusters):\n",
    "        # Aggregate the silhouette scores for samples belonging to\n",
    "        # cluster i, and sort them\n",
    "        ith_cluster_silhouette_values = \\\n",
    "            sample_silhouette_values[cluster_labels == i]\n",
    "\n",
    "        ith_cluster_silhouette_values.sort()\n",
    "\n",
    "        size_cluster_i = ith_cluster_silhouette_values.shape[0]\n",
    "        y_upper = y_lower + size_cluster_i\n",
    "\n",
    "        color = cm.nipy_spectral(float(i) / n_clusters)\n",
    "        ax1.fill_betweenx(np.arange(y_lower, y_upper),\n",
    "                          0, ith_cluster_silhouette_values,\n",
    "                          facecolor=color, edgecolor=color, alpha=0.7)\n",
    "\n",
    "        # Label the silhouette plots with their cluster numbers at the middle\n",
    "        ax1.text(-0.05, y_lower + 0.5 * size_cluster_i, str(i))\n",
    "\n",
    "        # Compute the new y_lower for next plot\n",
    "        y_lower = y_upper + 10  # 10 for the 0 samples\n",
    "\n",
    "    ax1.set_title(\"The silhouette plot for the various clusters.\")\n",
    "    ax1.set_xlabel(\"The silhouette coefficient values\")\n",
    "    ax1.set_ylabel(\"Cluster label\")\n",
    "\n",
    "    # The vertical line for average silhouette score of all the values\n",
    "    ax1.axvline(x=silhouette_avg, color=\"red\", linestyle=\"--\")\n",
    "\n",
    "    ax1.set_yticks([])  # Clear the yaxis labels / ticks\n",
    "    ax1.set_xticks([-0.1, 0, 0.2, 0.4, 0.6, 0.8, 1])\n",
    "\n",
    "    # 2nd Plot showing the actual clusters formed\n",
    "    colors = cm.nipy_spectral(cluster_labels.astype(float) / n_clusters)\n",
    "    ax2.scatter(X[:, 0], X[:, 1], marker='.', s=30, lw=0, alpha=0.7,\n",
    "                c=colors, edgecolor='k')\n",
    "\n",
    "    # Labeling the clusters\n",
    "    centers = clusterer.cluster_centers_\n",
    "    # Draw white circles at cluster centers\n",
    "    ax2.scatter(centers[:, 0], centers[:, 1], marker='o',\n",
    "                c=\"white\", alpha=1, s=200, edgecolor='k')\n",
    "\n",
    "    for i, c in enumerate(centers):\n",
    "        ax2.scatter(c[0], c[1], marker='$%d$' % i, alpha=1,\n",
    "                    s=50, edgecolor='k')\n",
    "\n",
    "    ax2.set_title(\"The visualization of the clustered data.\")\n",
    "    ax2.set_xlabel(\"Feature space for the 1st feature\")\n",
    "    ax2.set_ylabel(\"Feature space for the 2nd feature\")\n",
    "\n",
    "    plt.suptitle((\"Silhouette analysis for KMeans clustering on sample data \"\n",
    "                  \"with n_clusters = %d\" % n_clusters),\n",
    "                 fontsize=14, fontweight='bold')\n",
    "\n",
    "plt.show()"
   ]
  },
  {
   "cell_type": "code",
   "execution_count": null,
   "metadata": {
    "colab": {
     "base_uri": "https://localhost:8080/",
     "height": 34
    },
    "colab_type": "code",
    "id": "-rmci28VmoJ7",
    "outputId": "eb6dc2ab-54e7-4359-d93e-692e35ed68c7"
   },
   "outputs": [],
   "source": [
    "import folium\n",
    "from folium import plugins\n",
    "import geopy\n",
    "\n",
    "map1 = folium.Map(location=[40.779897, -73.968565],\n",
    "               zoom_start=11)\n",
    "\n",
    "plugins.Fullscreen().add_to(map1)\n",
    "plugins.ScrollZoomToggler().add_to(map1)"
   ]
  },
  {
   "cell_type": "code",
   "execution_count": null,
   "metadata": {
    "colab": {
     "base_uri": "https://localhost:8080/",
     "height": 34
    },
    "colab_type": "code",
    "id": "kmC5wY7HnSpY",
    "outputId": "ac6967b1-65d5-457f-f7f0-c8efec948fb7"
   },
   "outputs": [],
   "source": [
    "#Show map types using layer control\n",
    "folium.raster_layers.TileLayer('Open Street Map').add_to(map1)\n",
    "folium.raster_layers.TileLayer('Stamen Terrain').add_to(map1)\n",
    "folium.raster_layers.TileLayer('Stamen Toner').add_to(map1)\n",
    "folium.raster_layers.TileLayer('Stamen Watercolor').add_to(map1)\n",
    "folium.raster_layers.TileLayer('CartoDB Positron').add_to(map1)\n",
    "folium.raster_layers.TileLayer('CartoDB Dark_Matter').add_to(map1)\n",
    "\n",
    "#Add layer control to show different map types\n",
    "folium.LayerControl().add_to(map1)"
   ]
  },
  {
   "cell_type": "code",
   "execution_count": null,
   "metadata": {
    "colab": {
     "base_uri": "https://localhost:8080/",
     "height": 627
    },
    "colab_type": "code",
    "id": "GUF-V4W7msM6",
    "outputId": "fa4d59ee-e87a-41f5-8411-666abb5d5243"
   },
   "outputs": [],
   "source": [
    "map1"
   ]
  },
  {
   "cell_type": "code",
   "execution_count": null,
   "metadata": {
    "colab": {
     "base_uri": "https://localhost:8080/",
     "height": 204
    },
    "colab_type": "code",
    "id": "BtCrPjAKpe21",
    "outputId": "ce14a163-7b03-4809-98cd-8990722a5504"
   },
   "outputs": [],
   "source": [
    "data_gps = data.drop(columns=['Day', 'Month', 'Year', 'Hour', 'Minute'])\n",
    "data_gps.head()"
   ]
  },
  {
   "cell_type": "code",
   "execution_count": null,
   "metadata": {
    "colab": {
     "base_uri": "https://localhost:8080/",
     "height": 68
    },
    "colab_type": "code",
    "id": "zNzpONX_v0hO",
    "outputId": "209c1037-7836-4cfc-c4e7-1e2e921e7005"
   },
   "outputs": [],
   "source": [
    "model = KMeans(n_clusters=4)\n",
    "\n",
    "model.fit(data_gps)"
   ]
  },
  {
   "cell_type": "code",
   "execution_count": null,
   "metadata": {
    "colab": {
     "base_uri": "https://localhost:8080/",
     "height": 85
    },
    "colab_type": "code",
    "id": "_WTs23hWv7ht",
    "outputId": "fbc297ef-c701-4a0b-8da5-4d7286704b90"
   },
   "outputs": [],
   "source": [
    "centers = model.cluster_centers_\n",
    "\n",
    "centers"
   ]
  },
  {
   "cell_type": "code",
   "execution_count": null,
   "metadata": {
    "colab": {
     "base_uri": "https://localhost:8080/",
     "height": 85
    },
    "colab_type": "code",
    "id": "qwSC-1nWwCne",
    "outputId": "642809ac-16d0-4439-95a1-3984c39e4967"
   },
   "outputs": [],
   "source": [
    "dict_cluster = {}\n",
    "count = 1\n",
    "\n",
    "for center in centers:\n",
    "    name = str('Cluster ' + str(count))\n",
    "    dict_cluster[name] = list(center)\n",
    "    count += 1\n",
    "\n",
    "dict_cluster"
   ]
  },
  {
   "cell_type": "code",
   "execution_count": null,
   "metadata": {
    "colab": {},
    "colab_type": "code",
    "id": "NC0dPlpPyS-c"
   },
   "outputs": [],
   "source": [
    "for item in dict_cluster.items():\n",
    "    folium.Marker(location=item[1], popup=item[0], icon=folium.Icon(icon='car', prefix='fa', color='red')).add_to(map1)"
   ]
  },
  {
   "cell_type": "code",
   "execution_count": null,
   "metadata": {
    "colab": {
     "base_uri": "https://localhost:8080/",
     "height": 627
    },
    "colab_type": "code",
    "id": "Bpw_dr0fy9Th",
    "outputId": "c2008b92-b4fa-4518-f7a0-21088eb77069"
   },
   "outputs": [],
   "source": [
    "map1"
   ]
  },
  {
   "cell_type": "code",
   "execution_count": null,
   "metadata": {
    "colab": {
     "base_uri": "https://localhost:8080/",
     "height": 419
    },
    "colab_type": "code",
    "id": "lN7JioeN4OOF",
    "outputId": "9244825c-c5ff-4716-9b4b-d5eaa174d85c"
   },
   "outputs": [],
   "source": [
    "data_sample = data.sample(frac=0.07, axis=0).reset_index().drop(columns='index')\n",
    "\n",
    "data_sample"
   ]
  },
  {
   "cell_type": "code",
   "execution_count": null,
   "metadata": {
    "colab": {
     "base_uri": "https://localhost:8080/",
     "height": 221
    },
    "colab_type": "code",
    "id": "fLqOxeic2pzJ",
    "outputId": "08273efe-ba89-4260-c5b9-fcb374dd0f6a"
   },
   "outputs": [],
   "source": [
    "data_sample.apply(lambda row: folium.Circle(radius=1, location=[row['Lat'], row['Lon']], color='blue').add_to(map1), axis=1)"
   ]
  },
  {
   "cell_type": "code",
   "execution_count": null,
   "metadata": {
    "colab": {
     "base_uri": "https://localhost:8080/",
     "height": 627
    },
    "colab_type": "code",
    "id": "N_BR2gLH3v8G",
    "outputId": "893fd21a-b01b-4faf-bc27-e5e9ebb960dd"
   },
   "outputs": [],
   "source": [
    "map1"
   ]
  },
  {
   "cell_type": "code",
   "execution_count": null,
   "metadata": {
    "colab": {},
    "colab_type": "code",
    "id": "xPq1H4PlEXUa"
   },
   "outputs": [],
   "source": [
    "map1.save('map_uber_pickups_052014.html')"
   ]
  },
  {
   "cell_type": "code",
   "execution_count": null,
   "metadata": {
    "colab": {
     "base_uri": "https://localhost:8080/",
     "height": 627
    },
    "colab_type": "code",
    "id": "43OZdWvWrhs3",
    "outputId": "910f99e6-3f2d-44d3-8fa8-4a14e0b3f1ff"
   },
   "outputs": [],
   "source": [
    "heatmap = folium.Map(location=[40.779897, -73.968565],\n",
    "                     zoom_start=11)\n",
    "\n",
    "plugins.Fullscreen().add_to(heatmap)\n",
    "plugins.ScrollZoomToggler().add_to(heatmap)\n",
    "\n",
    "#Create list of coordinates for the heatmap\n",
    "coord = list(data_sample.apply(lambda row: [row['Lat'], row['Lon']], axis=1))\n",
    "\n",
    "plugins.HeatMap(data=coord, radius=10, gradient={0.5: 'blue', 0.65: 'lime', 0.95: 'red'}).add_to(heatmap)\n",
    "\n",
    "heatmap"
   ]
  },
  {
   "cell_type": "code",
   "execution_count": null,
   "metadata": {
    "colab": {},
    "colab_type": "code",
    "id": "Vry7qr8nu_EO"
   },
   "outputs": [],
   "source": [
    "heatmap.save('heatmap_uber_pickups_052014.html')"
   ]
  },
  {
   "cell_type": "code",
   "execution_count": null,
   "metadata": {
    "colab": {},
    "colab_type": "code",
    "id": "W4lwsNFfzRQT"
   },
   "outputs": [],
   "source": [
    "data_sample_time = pd.read_csv(\"https://raw.githubusercontent.com/fivethirtyeight/uber-tlc-foil-response/master/uber-trip-data/uber-raw-data-may14.csv\")\n",
    "\n",
    "data_sample_time['Date/Time'] = pd.to_datetime(data_sample_time['Date/Time'])\n",
    "\n",
    "data_sample_time['Date'] = data_sample_time['Date/Time'].apply(lambda x: datetime.date(x))\n",
    "data_sample_time['Time'] = data_sample_time['Date/Time'].apply(lambda x: datetime.time(x))\n",
    "\n",
    "data_sample_time = data_sample_time.drop(columns=['Date/Time', 'Base'])"
   ]
  },
  {
   "cell_type": "code",
   "execution_count": null,
   "metadata": {
    "colab": {
     "base_uri": "https://localhost:8080/",
     "height": 419
    },
    "colab_type": "code",
    "id": "-ZHQS9ky9gJF",
    "outputId": "530312e8-4363-4bbd-8584-2626e058e114"
   },
   "outputs": [],
   "source": [
    "data_sample_time = data_sample_time.sample(frac=0.07, axis=0).sort_values(by='Date').reset_index().drop(columns='index')\n",
    "data_sample_time"
   ]
  },
  {
   "cell_type": "code",
   "execution_count": null,
   "metadata": {
    "colab": {
     "base_uri": "https://localhost:8080/",
     "height": 627
    },
    "colab_type": "code",
    "id": "RKTrPo1o55iH",
    "outputId": "91c11f2b-9540-4333-c749-bdb9531e1708"
   },
   "outputs": [],
   "source": [
    "heatmap_with_time = folium.Map(location=[40.779897, -73.968565],\n",
    "                               zoom_start=11)\n",
    "\n",
    "#Create list of coordinates for the heatmap\n",
    "coord2 = list(data_sample_time.apply(lambda row: [row['Lat'], row['Lon']], axis=1))\n",
    "\n",
    "#Create list of dates\n",
    "#heatmap_dates = list(data_sample_time.apply(lambda row: row['Date'], axis=1))\n",
    "dates = [d.strftime('%Y-%m-%d') for d in data_sample_time.Date]\n",
    "\n",
    "#Create HeatMapWithTime plugin\n",
    "heatmap_plugin = plugins.HeatMapWithTime(data=coord2,\n",
    "                        index=dates,\n",
    "                        radius=15,\n",
    "                        auto_play=True,\n",
    "                        max_opacity=0.3).add_to(heatmap_with_time)\n",
    "\n",
    "heatmap_plugin.add_to(heatmap_with_time)\n",
    "\n",
    "heatmap_with_time"
   ]
  },
  {
   "cell_type": "code",
   "execution_count": null,
   "metadata": {
    "colab": {
     "base_uri": "https://localhost:8080/",
     "height": 1000
    },
    "colab_type": "code",
    "id": "4a2UQut1IpiT",
    "outputId": "78598d28-f842-4938-826d-752b35edfcc5"
   },
   "outputs": [],
   "source": [
    "from datetime import timedelta\n",
    "[(datetime.now() + k  * timedelta(1)).strftime('%Y-%m-%d') for k in range(len(data_sample_time))]"
   ]
  },
  {
   "cell_type": "code",
   "execution_count": null,
   "metadata": {
    "colab": {},
    "colab_type": "code",
    "id": "aId_mfbilALb"
   },
   "outputs": [],
   "source": []
  }
 ],
 "metadata": {
  "accelerator": "GPU",
  "colab": {
   "collapsed_sections": [],
   "name": "Uber_Pickups_Project.ipynb",
   "provenance": [],
   "toc_visible": true
  },
  "kernelspec": {
   "display_name": "Python 3",
   "language": "python",
   "name": "python3"
  },
  "language_info": {
   "codemirror_mode": {
    "name": "ipython",
    "version": 3
   },
   "file_extension": ".py",
   "mimetype": "text/x-python",
   "name": "python",
   "nbconvert_exporter": "python",
   "pygments_lexer": "ipython3",
   "version": "3.7.4"
  }
 },
 "nbformat": 4,
 "nbformat_minor": 1
}
